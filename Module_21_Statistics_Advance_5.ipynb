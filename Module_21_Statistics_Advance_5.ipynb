{
  "nbformat": 4,
  "nbformat_minor": 0,
  "metadata": {
    "colab": {
      "provenance": []
    },
    "kernelspec": {
      "name": "python3",
      "display_name": "Python 3"
    },
    "language_info": {
      "name": "python"
    }
  },
  "cells": [
    {
      "cell_type": "markdown",
      "source": [
        "Q1. Calculate the 95% confidence interval for a sample of data with a mean of 50 and a standard deviation\n",
        "of 5 using Python. Interpret the results."
      ],
      "metadata": {
        "id": "H_DftPv6xRuN"
      }
    },
    {
      "cell_type": "code",
      "source": [
        "import scipy.stats as stats\n",
        "\n",
        "# Sample data\n",
        "mean = 50\n",
        "std_dev = 5\n",
        "sample_size = 100  # Assuming sample size of 100 for demonstration purposes\n",
        "\n",
        "# Calculate the confidence interval\n",
        "confidence_level = 0.95\n",
        "z_score = stats.norm.ppf((1 + confidence_level) / 2)  # Two-tailed test\n",
        "margin_of_error = z_score * (std_dev / (sample_size ** 0.5))\n",
        "confidence_interval = (mean - margin_of_error, mean + margin_of_error)\n",
        "\n",
        "print(\"95% Confidence Interval:\", confidence_interval)"
      ],
      "metadata": {
        "id": "rgq4N3NYxetY"
      },
      "execution_count": null,
      "outputs": []
    },
    {
      "cell_type": "markdown",
      "source": [
        "Q2. Conduct a chi-square goodness of fit test to determine if the distribution of colors of M&Ms in a bag\n",
        "matches the expected distribution of 20% blue, 20% orange, 20% green, 10% yellow, 10% red, and 20%\n",
        "brown. Use Python to perform the test with a significance level of 0.05."
      ],
      "metadata": {
        "id": "VZaK76xbxgbT"
      }
    },
    {
      "cell_type": "code",
      "source": [
        "import numpy as np\n",
        "from scipy.stats import chisquare\n",
        "\n",
        "# Observed frequencies\n",
        "observed = np.array([18, 22, 16, 12, 10, 22])  # Blue, Orange, Green, Yellow, Red, Brown\n",
        "\n",
        "# Expected frequencies\n",
        "expected = np.array([20, 20, 20, 10, 10, 20])  # Expected percentages for each color\n",
        "\n",
        "# Perform chi-square goodness of fit test\n",
        "chi2_stat, p_val = chisquare(observed, expected)\n",
        "\n",
        "print(\"Chi-square statistic:\", chi2_stat)\n",
        "print(\"p-value:\", p_val)\n",
        "\n",
        "alpha = 0.05\n",
        "if p_val < alpha:\n",
        "    print(\"Reject the null hypothesis: The distribution of colors in the bag does not match the expected distribution.\")\n",
        "else:\n",
        "    print(\"Fail to reject the null hypothesis: The distribution of colors in the bag matches the expected distribution.\")"
      ],
      "metadata": {
        "id": "bBLMM9Skxjd9"
      },
      "execution_count": null,
      "outputs": []
    },
    {
      "cell_type": "markdown",
      "source": [
        "Q3. Use Python to calculate the chi-square statistic and p-value for a contingency table with the following\n",
        "data:\n",
        "\n",
        "Interpret the results of the test."
      ],
      "metadata": {
        "id": "H75gLV88xnia"
      }
    },
    {
      "cell_type": "code",
      "source": [],
      "metadata": {
        "id": "68qZO2zmxrVl"
      },
      "execution_count": null,
      "outputs": []
    },
    {
      "cell_type": "markdown",
      "source": [
        "Q4. A study of the prevalence of smoking in a population of 500 individuals found that 60 individuals\n",
        "smoked. Use Python to calculate the 95% confidence interval for the true proportion of individuals in the\n",
        "population who smoke."
      ],
      "metadata": {
        "id": "sy6AjE-hxtqd"
      }
    },
    {
      "cell_type": "code",
      "source": [
        "import scipy.stats as stats\n",
        "\n",
        "# Sample data\n",
        "n = 500  # Total population size\n",
        "smokers = 60  # Number of smokers\n",
        "\n",
        "# Calculate the proportion of smokers\n",
        "p_hat = smokers / n\n",
        "\n",
        "# Calculate the confidence interval\n",
        "confidence_level = 0.95\n",
        "z_score = stats.norm.ppf((1 + confidence_level) / 2)  # Two-tailed test\n",
        "margin_of_error = z_score * ((p_hat * (1 - p_hat)) / n) ** 0.5\n",
        "confidence_interval = (p_hat - margin_of_error, p_hat + margin_of_error)\n",
        "\n",
        "print(\"95% Confidence Interval for the proportion of smokers:\", confidence_interval)"
      ],
      "metadata": {
        "id": "YySIKdklxwVb"
      },
      "execution_count": null,
      "outputs": []
    },
    {
      "cell_type": "markdown",
      "source": [
        "Q5. Calculate the 90% confidence interval for a sample of data with a mean of 75 and a standard deviation\n",
        "of 12 using Python. Interpret the results."
      ],
      "metadata": {
        "id": "Y98pNCPzxztY"
      }
    },
    {
      "cell_type": "code",
      "source": [
        "import scipy.stats as stats\n",
        "\n",
        "# Sample data\n",
        "mean = 75\n",
        "std_dev = 12\n",
        "sample_size = 100  # Assuming sample size of 100 for demonstration purposes\n",
        "\n",
        "# Calculate the confidence interval\n",
        "confidence_level = 0.90\n",
        "z_score = stats.norm.ppf((1 + confidence_level) / 2)  # Two-tailed test\n",
        "margin_of_error = z_score * (std_dev / (sample_size ** 0.5))\n",
        "confidence_interval = (mean - margin_of_error, mean + margin_of_error)\n",
        "\n",
        "print(\"90% Confidence Interval:\", confidence_interval)"
      ],
      "metadata": {
        "id": "-g1DvnVbx3Fc"
      },
      "execution_count": null,
      "outputs": []
    },
    {
      "cell_type": "markdown",
      "source": [
        "Q6. Use Python to plot the chi-square distribution with 10 degrees of freedom. Label the axes and shade the\n",
        "area corresponding to a chi-square statistic of 15."
      ],
      "metadata": {
        "id": "DTGasCCfx7Ku"
      }
    },
    {
      "cell_type": "code",
      "source": [
        "import numpy as np\n",
        "import matplotlib.pyplot as plt\n",
        "import scipy.stats as stats\n",
        "\n",
        "# Degrees of freedom\n",
        "df = 10\n",
        "\n",
        "# Generate chi-square values\n",
        "x = np.linspace(0, 30, 1000)\n",
        "y = stats.chi2.pdf(x, df)\n",
        "\n",
        "# Plot the chi-square distribution\n",
        "plt.plot(x, y, 'b-', lw=2)\n",
        "\n",
        "# Shade the area corresponding to chi-square statistic of 15\n",
        "x_fill = np.linspace(15, 30, 100)\n",
        "y_fill = stats.chi2.pdf(x_fill, df)\n",
        "plt.fill_between(x_fill, y_fill, color='gray', alpha=0.5)\n",
        "\n",
        "# Label the axes\n",
        "plt.xlabel('Chi-square Value')\n",
        "plt.ylabel('Probability Density Function')\n",
        "plt.title('Chi-square Distribution (df=10)')\n",
        "\n",
        "plt.show()"
      ],
      "metadata": {
        "id": "RmMRoM6jyEgC"
      },
      "execution_count": null,
      "outputs": []
    },
    {
      "cell_type": "markdown",
      "source": [
        "Q7. A random sample of 1000 people was asked if they preferred Coke or Pepsi. Of the sample, 520\n",
        "preferred Coke. Calculate a 99% confidence interval for the true proportion of people in the population who\n",
        "prefer Coke."
      ],
      "metadata": {
        "id": "hP6wnk_dyI_B"
      }
    },
    {
      "cell_type": "code",
      "source": [
        "import scipy.stats as stats\n",
        "\n",
        "# Sample data\n",
        "n = 1000  # Total sample size\n",
        "coke_preferred = 520  # Number of people who prefer Coke\n",
        "\n",
        "# Calculate the proportion of people who prefer Coke\n",
        "p_hat = coke_preferred / n\n",
        "\n",
        "# Calculate the confidence interval\n",
        "confidence_level = 0.99\n",
        "z_score = stats.norm.ppf((1 + confidence_level) / 2)  # Two-tailed test\n",
        "margin_of_error = z_score * ((p_hat * (1 - p_hat)) / n) ** 0.5\n",
        "confidence_interval = (p_hat - margin_of_error, p_hat + margin_of_error)\n",
        "\n",
        "print(\"99% Confidence Interval for the proportion of people who prefer Coke:\", confidence_interval)"
      ],
      "metadata": {
        "id": "b4wojtFryMq1"
      },
      "execution_count": null,
      "outputs": []
    },
    {
      "cell_type": "markdown",
      "source": [
        "Q8. A researcher hypothesizes that a coin is biased towards tails. They flip the coin 100 times and observe\n",
        "45 tails. Conduct a chi-square goodness of fit test to determine if the observed frequencies match the\n",
        "expected frequencies of a fair coin. Use a significance level of 0.05."
      ],
      "metadata": {
        "id": "XrKJK-hMyQe-"
      }
    },
    {
      "cell_type": "code",
      "source": [
        "import numpy as np\n",
        "from scipy.stats import chisquare\n",
        "\n",
        "# Observed frequencies\n",
        "observed = np.array([45, 55])  # Tails, Heads\n",
        "\n",
        "# Expected frequencies for a fair coin\n",
        "expected = np.array([50, 50])  # Expected frequencies for fair coin\n",
        "\n",
        "# Perform chi-square goodness of fit test\n",
        "chi2_stat, p_val = chisquare(observed, expected)\n",
        "\n",
        "print(\"Chi-square statistic:\", chi2_stat)\n",
        "print(\"p-value:\", p_val)\n",
        "\n",
        "alpha = 0.05\n",
        "if p_val < alpha:\n",
        "    print(\"Reject the null hypothesis: The observed frequencies do not match the expected frequencies of a fair coin.\")\n",
        "else:\n",
        "    print(\"Fail to reject the null hypothesis: The observed frequencies match the expected frequencies of a fair coin.\")"
      ],
      "metadata": {
        "id": "WeAvwoN9yWgM"
      },
      "execution_count": null,
      "outputs": []
    },
    {
      "cell_type": "markdown",
      "source": [
        "Q11. A random sample of 30 people was selected from a population with an unknown mean and standard\n",
        "deviation. The sample mean was found to be 72 and the sample standard deviation was found to be 10.\n",
        "Conduct a hypothesis test to determine if the population mean is significantly different from 70. Use a\n",
        "significance level of 0.05."
      ],
      "metadata": {
        "id": "fQDanIfDyX3U"
      }
    },
    {
      "cell_type": "code",
      "source": [
        "import scipy.stats as stats\n",
        "\n",
        "# Given data\n",
        "sample_mean = 72\n",
        "sample_std_dev = 10\n",
        "population_mean = 70\n",
        "sample_size = 30\n",
        "alpha = 0.05\n",
        "\n",
        "# Calculate the t-statistic\n",
        "t_statistic = (sample_mean - population_mean) / (sample_std_dev / (sample_size ** 0.5))\n",
        "\n",
        "# Find the critical t-value\n",
        "critical_t_value = stats.t.ppf(1 - alpha/2, df=sample_size - 1)  # Two-tailed test\n",
        "\n",
        "# Determine if we reject the null hypothesis\n",
        "if abs(t_statistic) > critical_t_value:\n",
        "    print(\"Reject the null hypothesis: The population mean is significantly different from 70.\")\n",
        "else:\n",
        "    print(\"Fail to reject the null hypothesis: There is not enough evidence to conclude that the population mean is significantly different from 70.\")"
      ],
      "metadata": {
        "id": "vD96uxO6yens"
      },
      "execution_count": null,
      "outputs": []
    }
  ]
}